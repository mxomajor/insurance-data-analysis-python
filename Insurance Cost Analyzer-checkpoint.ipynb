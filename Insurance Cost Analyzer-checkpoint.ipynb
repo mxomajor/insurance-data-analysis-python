{
 "cells": [
  {
   "cell_type": "markdown",
   "id": "9656e77a-fdb8-4c1d-bb63-445afc1ed5f9",
   "metadata": {},
   "source": [
    "# 📊 Medical Insurance Data Analysis\n",
    "\n",
    "This beginner-friendly Python project explores how different factors affect medical insurance charges using a CSV dataset. We'll use Python basics like **lists**, **loops**, **functions**, and **classes** to find insights.\n",
    "\n",
    "## Objectives:\n",
    "- Read and store the CSV data.\n",
    "- Analyze average charges by gender.\n",
    "- Compare smoking habits and age by gender.\n",
    "- Draw conclusions using simple data analysis.\n",
    "\n",
    "---\n"
   ]
  },
  {
   "cell_type": "code",
   "execution_count": 16,
   "id": "54b65488-5311-4ca8-af4e-d2af2ad633b6",
   "metadata": {},
   "outputs": [],
   "source": [
    "import csv"
   ]
  },
  {
   "cell_type": "code",
   "execution_count": 17,
   "id": "2fc596c0-233d-4776-83a6-8742bf3ed579",
   "metadata": {},
   "outputs": [
    {
     "data": {
      "text/html": [
       "<div>\n",
       "<style scoped>\n",
       "    .dataframe tbody tr th:only-of-type {\n",
       "        vertical-align: middle;\n",
       "    }\n",
       "\n",
       "    .dataframe tbody tr th {\n",
       "        vertical-align: top;\n",
       "    }\n",
       "\n",
       "    .dataframe thead th {\n",
       "        text-align: right;\n",
       "    }\n",
       "</style>\n",
       "<table border=\"1\" class=\"dataframe\">\n",
       "  <thead>\n",
       "    <tr style=\"text-align: right;\">\n",
       "      <th></th>\n",
       "      <th>age</th>\n",
       "      <th>sex</th>\n",
       "      <th>bmi</th>\n",
       "      <th>children</th>\n",
       "      <th>smoker</th>\n",
       "      <th>region</th>\n",
       "      <th>charges</th>\n",
       "    </tr>\n",
       "  </thead>\n",
       "  <tbody>\n",
       "    <tr>\n",
       "      <th>0</th>\n",
       "      <td>19</td>\n",
       "      <td>female</td>\n",
       "      <td>27.900</td>\n",
       "      <td>0</td>\n",
       "      <td>yes</td>\n",
       "      <td>southwest</td>\n",
       "      <td>16884.92400</td>\n",
       "    </tr>\n",
       "    <tr>\n",
       "      <th>1</th>\n",
       "      <td>18</td>\n",
       "      <td>male</td>\n",
       "      <td>33.770</td>\n",
       "      <td>1</td>\n",
       "      <td>no</td>\n",
       "      <td>southeast</td>\n",
       "      <td>1725.55230</td>\n",
       "    </tr>\n",
       "    <tr>\n",
       "      <th>2</th>\n",
       "      <td>28</td>\n",
       "      <td>male</td>\n",
       "      <td>33.000</td>\n",
       "      <td>3</td>\n",
       "      <td>no</td>\n",
       "      <td>southeast</td>\n",
       "      <td>4449.46200</td>\n",
       "    </tr>\n",
       "    <tr>\n",
       "      <th>3</th>\n",
       "      <td>33</td>\n",
       "      <td>male</td>\n",
       "      <td>22.705</td>\n",
       "      <td>0</td>\n",
       "      <td>no</td>\n",
       "      <td>northwest</td>\n",
       "      <td>21984.47061</td>\n",
       "    </tr>\n",
       "    <tr>\n",
       "      <th>4</th>\n",
       "      <td>32</td>\n",
       "      <td>male</td>\n",
       "      <td>28.880</td>\n",
       "      <td>0</td>\n",
       "      <td>no</td>\n",
       "      <td>northwest</td>\n",
       "      <td>3866.85520</td>\n",
       "    </tr>\n",
       "    <tr>\n",
       "      <th>...</th>\n",
       "      <td>...</td>\n",
       "      <td>...</td>\n",
       "      <td>...</td>\n",
       "      <td>...</td>\n",
       "      <td>...</td>\n",
       "      <td>...</td>\n",
       "      <td>...</td>\n",
       "    </tr>\n",
       "    <tr>\n",
       "      <th>1333</th>\n",
       "      <td>50</td>\n",
       "      <td>male</td>\n",
       "      <td>30.970</td>\n",
       "      <td>3</td>\n",
       "      <td>no</td>\n",
       "      <td>northwest</td>\n",
       "      <td>10600.54830</td>\n",
       "    </tr>\n",
       "    <tr>\n",
       "      <th>1334</th>\n",
       "      <td>18</td>\n",
       "      <td>female</td>\n",
       "      <td>31.920</td>\n",
       "      <td>0</td>\n",
       "      <td>no</td>\n",
       "      <td>northeast</td>\n",
       "      <td>2205.98080</td>\n",
       "    </tr>\n",
       "    <tr>\n",
       "      <th>1335</th>\n",
       "      <td>18</td>\n",
       "      <td>female</td>\n",
       "      <td>36.850</td>\n",
       "      <td>0</td>\n",
       "      <td>no</td>\n",
       "      <td>southeast</td>\n",
       "      <td>1629.83350</td>\n",
       "    </tr>\n",
       "    <tr>\n",
       "      <th>1336</th>\n",
       "      <td>21</td>\n",
       "      <td>female</td>\n",
       "      <td>25.800</td>\n",
       "      <td>0</td>\n",
       "      <td>no</td>\n",
       "      <td>southwest</td>\n",
       "      <td>2007.94500</td>\n",
       "    </tr>\n",
       "    <tr>\n",
       "      <th>1337</th>\n",
       "      <td>61</td>\n",
       "      <td>female</td>\n",
       "      <td>29.070</td>\n",
       "      <td>0</td>\n",
       "      <td>yes</td>\n",
       "      <td>northwest</td>\n",
       "      <td>29141.36030</td>\n",
       "    </tr>\n",
       "  </tbody>\n",
       "</table>\n",
       "<p>1338 rows × 7 columns</p>\n",
       "</div>"
      ],
      "text/plain": [
       "      age     sex     bmi  children smoker     region      charges\n",
       "0      19  female  27.900         0    yes  southwest  16884.92400\n",
       "1      18    male  33.770         1     no  southeast   1725.55230\n",
       "2      28    male  33.000         3     no  southeast   4449.46200\n",
       "3      33    male  22.705         0     no  northwest  21984.47061\n",
       "4      32    male  28.880         0     no  northwest   3866.85520\n",
       "...   ...     ...     ...       ...    ...        ...          ...\n",
       "1333   50    male  30.970         3     no  northwest  10600.54830\n",
       "1334   18  female  31.920         0     no  northeast   2205.98080\n",
       "1335   18  female  36.850         0     no  southeast   1629.83350\n",
       "1336   21  female  25.800         0     no  southwest   2007.94500\n",
       "1337   61  female  29.070         0    yes  northwest  29141.36030\n",
       "\n",
       "[1338 rows x 7 columns]"
      ]
     },
     "execution_count": 17,
     "metadata": {},
     "output_type": "execute_result"
    }
   ],
   "source": [
    "import pandas\n",
    "data = pandas.read_csv('insurance.csv')\n",
    "data"
   ]
  },
  {
   "cell_type": "code",
   "execution_count": null,
   "id": "09cb8eaa-d446-4a4f-83f2-d3a6ebd1a965",
   "metadata": {},
   "outputs": [],
   "source": []
  },
  {
   "cell_type": "code",
   "execution_count": 18,
   "id": "e15f8906-4ec5-41b7-a5cf-858e49fc87d8",
   "metadata": {},
   "outputs": [],
   "source": [
    "import csv\n",
    "\n",
    "# Lists to hold each column\n",
    "ages = []\n",
    "sexes = []\n",
    "bmis = []\n",
    "children = []\n",
    "smokers = []\n",
    "regions = []\n",
    "charges = []\n",
    "\n",
    "# Open and read the CSV file\n",
    "with open('insurance.csv', newline='') as file:\n",
    "    reader = csv.DictReader(file)\n",
    "    for row in reader:\n",
    "        ages.append(int(row['age']))\n",
    "        sexes.append(row['sex'])\n",
    "        bmis.append(float(row['bmi']))\n",
    "        children.append(int(row['children']))\n",
    "        smokers.append(row['smoker'])\n",
    "        regions.append(row['region'])\n",
    "        charges.append(float(row['charges']))\n"
   ]
  },
  {
   "cell_type": "markdown",
   "id": "8dabf64c-64ed-4a78-a201-5142ef9d3ea8",
   "metadata": {},
   "source": [
    "CLASS FOR EACH PERSON"
   ]
  },
  {
   "cell_type": "code",
   "execution_count": 19,
   "id": "2475ba2c-e7e7-4e0d-b477-8af29a1bde0e",
   "metadata": {},
   "outputs": [],
   "source": [
    "class Person:\n",
    "    def __init__(self, age, sex, bmi, children, smoker, region, charge):\n",
    "        self.age = age\n",
    "        self.sex = sex\n",
    "        self.bmi = bmi\n",
    "        self.children = children\n",
    "        self.smoker = smoker\n",
    "        self.region = region\n",
    "        self.charge = charge\n",
    "    "
   ]
  },
  {
   "cell_type": "markdown",
   "id": "630df53a-459f-4802-88a1-af793340fd83",
   "metadata": {},
   "source": [
    "LIST OF PERSON OBJECT"
   ]
  },
  {
   "cell_type": "code",
   "execution_count": 20,
   "id": "2dabb47f-bd71-40c1-8df9-ea5e371bdaab",
   "metadata": {},
   "outputs": [],
   "source": [
    "people = []\n",
    "for i in range(len(ages)):\n",
    "    person = Person(ages[i], sexes[i], bmis[i], children[i], smokers[i], regions[i], charges[i])\n",
    "    people.append(person)\n"
   ]
  },
  {
   "cell_type": "markdown",
   "id": "1715fa8e-f99f-4639-bc0d-22fb694de954",
   "metadata": {},
   "source": [
    "FUNTION TO GET AVERAGE CHARGE"
   ]
  },
  {
   "cell_type": "code",
   "execution_count": 21,
   "id": "a065c3fe-e665-4cd8-bd12-9443b8ad4f8b",
   "metadata": {},
   "outputs": [
    {
     "name": "stdout",
     "output_type": "stream",
     "text": [
      "Average charge for all people: $13270.42\n"
     ]
    }
   ],
   "source": [
    "def average_charge(person_list):\n",
    "    total = 0\n",
    "    for person in person_list:\n",
    "        total += person.charge\n",
    "    return total / len(person_list)\n",
    "\n",
    "print(f\"Average charge for all people: ${average_charge(people):.2f}\")\n"
   ]
  },
  {
   "cell_type": "markdown",
   "id": "3dcad817-50e5-491c-93ca-8ac693a46cfa",
   "metadata": {},
   "source": [
    "Analyze Smokers vs Non-Smokers"
   ]
  },
  {
   "cell_type": "code",
   "execution_count": 22,
   "id": "f4115504-aeaf-419e-929a-333bb690a9e4",
   "metadata": {},
   "outputs": [
    {
     "name": "stdout",
     "output_type": "stream",
     "text": [
      "Smokers average charge: $32050.23\n",
      "Non-smokers average charge: $8434.27\n"
     ]
    }
   ],
   "source": [
    "def get_smoker_stats(people):\n",
    "    smokers_list = []\n",
    "    non_smokers_list = []\n",
    "\n",
    "    for person in people:\n",
    "        if person.smoker == 'yes':\n",
    "            smokers_list.append(person)\n",
    "        else:\n",
    "            non_smokers_list.append(person)\n",
    "    \n",
    "    avg_smokers = average_charge(smokers_list)\n",
    "    avg_non_smokers = average_charge(non_smokers_list)\n",
    "\n",
    "    print(f\"Smokers average charge: ${avg_smokers:.2f}\")\n",
    "    print(f\"Non-smokers average charge: ${avg_non_smokers:.2f}\")\n",
    "\n",
    "get_smoker_stats(people)\n"
   ]
  },
  {
   "cell_type": "markdown",
   "id": "00b4fa74-f928-4c01-9845-849298866e86",
   "metadata": {},
   "source": [
    "Find the Person With the Highest Charge"
   ]
  },
  {
   "cell_type": "code",
   "execution_count": 23,
   "id": "344b3317-5831-4d87-918f-ae61343169ff",
   "metadata": {},
   "outputs": [
    {
     "name": "stdout",
     "output_type": "stream",
     "text": [
      "Highest charge: $63770.43 by a 54-year-old female\n"
     ]
    }
   ],
   "source": [
    "def most_expensive_patient(people):\n",
    "    highest = people[0]\n",
    "    for person in people:\n",
    "        if person.charge > highest.charge:\n",
    "            highest = person\n",
    "    return highest\n",
    "\n",
    "highest_person = most_expensive_patient(people)\n",
    "print(f\"Highest charge: ${highest_person.charge:.2f} by a {highest_person.age}-year-old {highest_person.sex}\")\n"
   ]
  },
  {
   "cell_type": "markdown",
   "id": "ab2f2abf-47df-456f-bfd3-cb562420fd5e",
   "metadata": {},
   "source": [
    "STATISTICS ON THE DATASET\n",
    "thisdict = {\n",
    "  \"key\": \"value\",\n",
    "  \"key2\": \"value2\",\n",
    "}"
   ]
  },
  {
   "cell_type": "code",
   "execution_count": 27,
   "id": "bc441bbe-6e9e-4b75-bd74-3787f696542e",
   "metadata": {},
   "outputs": [
    {
     "name": "stdout",
     "output_type": "stream",
     "text": [
      "{'total_people': 1338, 'average_age': 39.21, 'average_bmi': 30.66, 'average_charges': 13270.42}\n"
     ]
    }
   ],
   "source": [
    "data_summary = {\n",
    "    \"total_people\": len(people),\n",
    "    \"average_age\": round(sum(ages) / len(ages), 2),\n",
    "    \"average_bmi\": round(sum(bmis) / len(bmis), 2),\n",
    "    \"average_charges\": round(sum(charges) / len(charges), 2)\n",
    "}\n",
    "print(data_summary)\n"
   ]
  },
  {
   "cell_type": "code",
   "execution_count": null,
   "id": "e8e1fd67-13c2-4536-9f0b-6a2e64ac53f4",
   "metadata": {},
   "outputs": [],
   "source": []
  },
  {
   "cell_type": "markdown",
   "id": "1db4640e-e367-4ae2-8032-21dd207e9748",
   "metadata": {},
   "source": [
    "Let’s see how charges vary by sex — this could show bias or reflect real-world differences."
   ]
  },
  {
   "cell_type": "code",
   "execution_count": 28,
   "id": "d43204cf-4767-49a3-b773-66625169f01a",
   "metadata": {},
   "outputs": [
    {
     "name": "stdout",
     "output_type": "stream",
     "text": [
      "Average charges (Male): $13956.75\n",
      "Average charges (Female): $12569.58\n"
     ]
    }
   ],
   "source": [
    "male_charges = []\n",
    "female_charges = []\n",
    "\n",
    "for person in people:\n",
    "    if person.sex == 'male':\n",
    "        male_charges.append(person.charge)\n",
    "    else:\n",
    "        female_charges.append(person.charge)\n",
    "\n",
    "print(f\"Average charges (Male): ${sum(male_charges)/len(male_charges):.2f}\")\n",
    "print(f\"Average charges (Female): ${sum(female_charges)/len(female_charges):.2f}\")\n"
   ]
  },
  {
   "cell_type": "markdown",
   "id": "02d02b28-aafc-478e-8055-3c2ae717cbf1",
   "metadata": {},
   "source": [
    "🧠 Finding: Charges by Gender\n",
    "Average charges for males: $13,956.75\n",
    "\n",
    "Average charges for females: $12,569.58\n",
    "\n",
    "✍️ Interpretation:\n",
    "This suggests that men are paying more for medical insurance on average compared to women in this dataset. The difference is about $1,387.17.\n",
    "\n",
    "🔎 Possible Reasons:\n",
    "Here are a few beginner-level insights you could explore:\n",
    "\n",
    "Do more males smoke than females in this dataset?\n",
    "Smoking raises medical costs a lot, so that could explain the gap.\n",
    "\n",
    "Are males older or have higher BMIs on average?\n",
    "Age and BMI also affect charges."
   ]
  },
  {
   "cell_type": "code",
   "execution_count": 29,
   "id": "b68d055c-3fb2-42f7-974b-10d8c404bd99",
   "metadata": {},
   "outputs": [
    {
     "name": "stdout",
     "output_type": "stream",
     "text": [
      "Male smokers: 159\n",
      "Female smokers: 115\n"
     ]
    }
   ],
   "source": [
    "male_smokers = 0\n",
    "female_smokers = 0\n",
    "\n",
    "for person in people:\n",
    "    if person.smoker == \"yes\":\n",
    "        if person.sex == \"male\":\n",
    "            male_smokers += 1\n",
    "        else:\n",
    "            female_smokers += 1\n",
    "\n",
    "print(f\"Male smokers: {male_smokers}\")\n",
    "print(f\"Female smokers: {female_smokers}\")\n"
   ]
  },
  {
   "cell_type": "code",
   "execution_count": 30,
   "id": "bb087831-5086-45df-9fb1-9a7561bf5346",
   "metadata": {},
   "outputs": [
    {
     "name": "stdout",
     "output_type": "stream",
     "text": [
      "Average male age: 38.92\n",
      "Average female age: 39.50\n"
     ]
    }
   ],
   "source": [
    "male_ages = [p.age for p in people if p.sex == \"male\"]\n",
    "female_ages = [p.age for p in people if p.sex == \"female\"]\n",
    "\n",
    "print(f\"Average male age: {sum(male_ages)/len(male_ages):.2f}\")\n",
    "print(f\"Average female age: {sum(female_ages)/len(female_ages):.2f}\")\n"
   ]
  },
  {
   "cell_type": "markdown",
   "id": "a51583f9-fe0d-4193-a816-7fc39c08419e",
   "metadata": {},
   "source": [
    "### 📊 Deeper Gender Analysis\n",
    "\n",
    "\n",
    "### 🚬 Smokers by Gender\n",
    "Male smokers: 159\n",
    "Female smokers: 115\n",
    "\n",
    "This shows that there are more male smokers, which could be one reason why males pay more on average for insurance.\n",
    "\n",
    "### 🎂 Average Age by Gender\n",
    "\n",
    "Average male age: 38.92\n",
    "Average female age: 39.50\n",
    "\n",
    "There’s no major age difference, so age is likely not the main cause of the price gap.\n",
    "\n",
    "### 💡 Conclusion:\n",
    "The higher average charge for men might be linked to the higher number of male smokers, not their age."
   ]
  },
  {
   "cell_type": "code",
   "execution_count": null,
   "id": "81a595c7-f832-47a0-bd04-c55b50a1adf1",
   "metadata": {},
   "outputs": [],
   "source": []
  }
 ],
 "metadata": {
  "kernelspec": {
   "display_name": "Python 3 (ipykernel)",
   "language": "python",
   "name": "python3"
  },
  "language_info": {
   "codemirror_mode": {
    "name": "ipython",
    "version": 3
   },
   "file_extension": ".py",
   "mimetype": "text/x-python",
   "name": "python",
   "nbconvert_exporter": "python",
   "pygments_lexer": "ipython3",
   "version": "3.12.7"
  }
 },
 "nbformat": 4,
 "nbformat_minor": 5
}
